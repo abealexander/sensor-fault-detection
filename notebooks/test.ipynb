{
 "cells": [
  {
   "cell_type": "code",
   "execution_count": 1,
   "metadata": {},
   "outputs": [],
   "source": [
    "from scipy.stats import ks_2samp"
   ]
  },
  {
   "cell_type": "code",
   "execution_count": 2,
   "metadata": {},
   "outputs": [],
   "source": [
    "import numpy as np"
   ]
  },
  {
   "cell_type": "code",
   "execution_count": 3,
   "metadata": {},
   "outputs": [],
   "source": [
    "d1 = np.arange(10)"
   ]
  },
  {
   "cell_type": "code",
   "execution_count": 4,
   "metadata": {},
   "outputs": [],
   "source": [
    "d2 = np.arange(10)"
   ]
  },
  {
   "cell_type": "code",
   "execution_count": 5,
   "metadata": {},
   "outputs": [
    {
     "name": "stdout",
     "output_type": "stream",
     "text": [
      "[0 1 2 3 4 5 6 7 8 9] [0 1 2 3 4 5 6 7 8 9]\n"
     ]
    }
   ],
   "source": [
    "print(d1, d2)"
   ]
  },
  {
   "cell_type": "code",
   "execution_count": 6,
   "metadata": {},
   "outputs": [
    {
     "data": {
      "text/plain": [
       "KstestResult(statistic=0.0, pvalue=1.0)"
      ]
     },
     "execution_count": 6,
     "metadata": {},
     "output_type": "execute_result"
    }
   ],
   "source": [
    "ks_2samp(d1, d2)"
   ]
  },
  {
   "cell_type": "markdown",
   "metadata": {},
   "source": [
    "No drift, distribution for both data same"
   ]
  },
  {
   "cell_type": "code",
   "execution_count": 7,
   "metadata": {},
   "outputs": [],
   "source": [
    "d1 = np.arange(11)\n",
    "d2 = np.arange(10)"
   ]
  },
  {
   "cell_type": "code",
   "execution_count": 8,
   "metadata": {},
   "outputs": [
    {
     "data": {
      "text/plain": [
       "KstestResult(statistic=0.09090909090909091, pvalue=1.0)"
      ]
     },
     "execution_count": 8,
     "metadata": {},
     "output_type": "execute_result"
    }
   ],
   "source": [
    "ks_2samp(d1, d2)"
   ]
  },
  {
   "cell_type": "code",
   "execution_count": 9,
   "metadata": {},
   "outputs": [],
   "source": [
    "d1 = np.arange(100, 200)\n",
    "d2 = np.arange(10)"
   ]
  },
  {
   "cell_type": "code",
   "execution_count": 10,
   "metadata": {},
   "outputs": [],
   "source": [
    "test = ks_2samp(d1, d2)"
   ]
  },
  {
   "cell_type": "code",
   "execution_count": 11,
   "metadata": {},
   "outputs": [
    {
     "data": {
      "text/plain": [
       "0"
      ]
     },
     "execution_count": 11,
     "metadata": {},
     "output_type": "execute_result"
    }
   ],
   "source": [
    "round(test.pvalue)"
   ]
  },
  {
   "cell_type": "markdown",
   "metadata": {},
   "source": [
    "Completely different distribution so pvalue 0, null hypothesis fails"
   ]
  },
  {
   "cell_type": "markdown",
   "metadata": {},
   "source": [
    "https://docs.scipy.org/doc/scipy/reference/generated/scipy.stats.ks_2samp.html"
   ]
  },
  {
   "cell_type": "code",
   "execution_count": 12,
   "metadata": {},
   "outputs": [],
   "source": [
    "train_file_path = r\"E:\\Abe Data\\iNeuron\\Courses\\Industry Ready Data Science Projects\\sensor-fault-detection\\artifact\\11_06_2022_01_50_53\\data_ingestion\\ingested\\train.csv\""
   ]
  },
  {
   "cell_type": "code",
   "execution_count": 13,
   "metadata": {},
   "outputs": [],
   "source": [
    "test_file_path = r\"E:\\Abe Data\\iNeuron\\Courses\\Industry Ready Data Science Projects\\sensor-fault-detection\\artifact\\11_06_2022_01_50_53\\data_ingestion\\ingested\\test.csv\""
   ]
  },
  {
   "cell_type": "code",
   "execution_count": 14,
   "metadata": {},
   "outputs": [],
   "source": [
    "import pandas as pd"
   ]
  },
  {
   "cell_type": "code",
   "execution_count": 15,
   "metadata": {},
   "outputs": [],
   "source": [
    "train_df = pd.read_csv(train_file_path)\n",
    "test_df = pd.read_csv(test_file_path)"
   ]
  },
  {
   "cell_type": "code",
   "execution_count": 16,
   "metadata": {},
   "outputs": [
    {
     "data": {
      "text/plain": [
       "Index(['class', 'aa_000', 'ac_000', 'ad_000', 'ae_000', 'af_000', 'ag_000',\n",
       "       'ag_001', 'ag_002', 'ag_003',\n",
       "       ...\n",
       "       'ee_002', 'ee_003', 'ee_004', 'ee_005', 'ee_006', 'ee_007', 'ee_008',\n",
       "       'ee_009', 'ef_000', 'eg_000'],\n",
       "      dtype='object', length=164)"
      ]
     },
     "execution_count": 16,
     "metadata": {},
     "output_type": "execute_result"
    }
   ],
   "source": [
    "train_df.columns"
   ]
  },
  {
   "cell_type": "code",
   "execution_count": 17,
   "metadata": {},
   "outputs": [
    {
     "data": {
      "text/plain": [
       "Index(['class', 'aa_000', 'ac_000', 'ad_000', 'ae_000', 'af_000', 'ag_000',\n",
       "       'ag_001', 'ag_002', 'ag_003',\n",
       "       ...\n",
       "       'ee_002', 'ee_003', 'ee_004', 'ee_005', 'ee_006', 'ee_007', 'ee_008',\n",
       "       'ee_009', 'ef_000', 'eg_000'],\n",
       "      dtype='object', length=164)"
      ]
     },
     "execution_count": 17,
     "metadata": {},
     "output_type": "execute_result"
    }
   ],
   "source": [
    "test_df.columns"
   ]
  },
  {
   "cell_type": "code",
   "execution_count": 18,
   "metadata": {},
   "outputs": [],
   "source": [
    "d1 = train_df['aa_000']\n",
    "d2 = test_df['aa_000']"
   ]
  },
  {
   "cell_type": "code",
   "execution_count": 19,
   "metadata": {},
   "outputs": [
    {
     "data": {
      "text/plain": [
       "KstestResult(statistic=0.008020287918052538, pvalue=0.8610285036145167)"
      ]
     },
     "execution_count": 19,
     "metadata": {},
     "output_type": "execute_result"
    }
   ],
   "source": [
    "ks_2samp(d1, d2)"
   ]
  },
  {
   "cell_type": "markdown",
   "metadata": {},
   "source": [
    "Greater than 0.05, distributions are similar"
   ]
  },
  {
   "cell_type": "code",
   "execution_count": 20,
   "metadata": {},
   "outputs": [
    {
     "data": {
      "text/plain": [
       "KstestResult(statistic=0.0004958985451057885, pvalue=1.0)"
      ]
     },
     "execution_count": 20,
     "metadata": {},
     "output_type": "execute_result"
    }
   ],
   "source": [
    "d1 = train_df['class']\n",
    "d2 = test_df['class']\n",
    "ks_2samp(d1, d2)"
   ]
  },
  {
   "cell_type": "code",
   "execution_count": 21,
   "metadata": {},
   "outputs": [
    {
     "ename": "SyntaxError",
     "evalue": "invalid syntax (main_utils.py, line 75)",
     "output_type": "error",
     "traceback": [
      "Traceback \u001b[1;36m(most recent call last)\u001b[0m:\n",
      "  File \u001b[0;32me:\\Abe Data\\iNeuron\\Courses\\Industry Ready Data Science Projects\\sensor-fault-detection\\venv\\lib\\site-packages\\IPython\\core\\interactiveshell.py:3398\u001b[0m in \u001b[0;35mrun_code\u001b[0m\n    exec(code_obj, self.user_global_ns, self.user_ns)\n",
      "\u001b[1;36m  Input \u001b[1;32mIn [21]\u001b[1;36m in \u001b[1;35m<cell line: 1>\u001b[1;36m\u001b[0m\n\u001b[1;33m    from sensor.utils.main_utils import write_yaml_file\u001b[0m\n",
      "\u001b[1;36m  File \u001b[1;32me:\\abe data\\ineuron\\courses\\industry ready data science projects\\sensor-fault-detection\\sensor\\utils\\main_utils.py:75\u001b[1;36m\u001b[0m\n\u001b[1;33m    raise SensorException(e, sys) from\u001b[0m\n\u001b[1;37m                                       ^\u001b[0m\n\u001b[1;31mSyntaxError\u001b[0m\u001b[1;31m:\u001b[0m invalid syntax\n"
     ]
    }
   ],
   "source": [
    "from sensor.utils.main_utils import write_yaml_file"
   ]
  },
  {
   "cell_type": "code",
   "execution_count": null,
   "metadata": {},
   "outputs": [],
   "source": [
    "report = {}\n",
    "def get_drift_report(base_df, current_df, threshold=0.5):  #0.05 pvalue is very low\n",
    "    for column in base_df.columns:\n",
    "        d1 = base_df[column]\n",
    "        d2 = current_df[column]\n",
    "        is_same_dist = ks_2samp(d1, d2)\n",
    "        if threshold<=is_same_dist.pvalue:\n",
    "            is_found = False\n",
    "        else:\n",
    "            is_found = True\n",
    "        report.update({column:{\n",
    "            \"p_value\":float(is_same_dist.pvalue),\n",
    "            \"drift_status\":is_found\n",
    "        }})\n",
    "    return report"
   ]
  },
  {
   "cell_type": "code",
   "execution_count": null,
   "metadata": {},
   "outputs": [
    {
     "data": {
      "text/plain": [
       "{'class': {'p_value': 1.0, 'drift_status': False},\n",
       " 'aa_000': {'p_value': 0.8610285036145167, 'drift_status': False},\n",
       " 'ac_000': {'p_value': 0.6171907930667384, 'drift_status': False},\n",
       " 'ad_000': {'p_value': 0.5713942095216639, 'drift_status': False},\n",
       " 'ae_000': {'p_value': 0.909559344654857, 'drift_status': False},\n",
       " 'af_000': {'p_value': 0.9631989658928997, 'drift_status': False},\n",
       " 'ag_000': {'p_value': 1.0, 'drift_status': False},\n",
       " 'ag_001': {'p_value': 1.0, 'drift_status': False},\n",
       " 'ag_002': {'p_value': 0.9955959348228088, 'drift_status': False},\n",
       " 'ag_003': {'p_value': 0.9435868865056976, 'drift_status': False},\n",
       " 'ag_004': {'p_value': 0.14120688973820883, 'drift_status': True},\n",
       " 'ag_005': {'p_value': 0.25685178903444184, 'drift_status': True},\n",
       " 'ag_006': {'p_value': 0.9194301740492343, 'drift_status': False},\n",
       " 'ag_007': {'p_value': 0.5830619087292569, 'drift_status': False},\n",
       " 'ag_008': {'p_value': 0.21846846563142808, 'drift_status': True},\n",
       " 'ag_009': {'p_value': 0.5737522123768357, 'drift_status': False},\n",
       " 'ah_000': {'p_value': 0.9256576456569788, 'drift_status': False},\n",
       " 'ai_000': {'p_value': 0.9999973985358818, 'drift_status': False},\n",
       " 'aj_000': {'p_value': 0.21263899740351722, 'drift_status': True},\n",
       " 'ak_000': {'p_value': 0.8712656455328109, 'drift_status': False},\n",
       " 'al_000': {'p_value': 0.4134523840437223, 'drift_status': True},\n",
       " 'am_0': {'p_value': 0.25036474306172485, 'drift_status': True},\n",
       " 'an_000': {'p_value': 0.9575801280530393, 'drift_status': False},\n",
       " 'ao_000': {'p_value': 0.9071813690682989, 'drift_status': False},\n",
       " 'ap_000': {'p_value': 0.6259712526902239, 'drift_status': False},\n",
       " 'aq_000': {'p_value': 0.7921390640483661, 'drift_status': False},\n",
       " 'ar_000': {'p_value': 0.996654090823843, 'drift_status': False},\n",
       " 'as_000': {'p_value': 1.0, 'drift_status': False},\n",
       " 'at_000': {'p_value': 0.9771926071194008, 'drift_status': False},\n",
       " 'au_000': {'p_value': 0.9999999999999981, 'drift_status': False},\n",
       " 'av_000': {'p_value': 0.4254350279606359, 'drift_status': True},\n",
       " 'ax_000': {'p_value': 0.8771404826314289, 'drift_status': False},\n",
       " 'ay_000': {'p_value': 1.0, 'drift_status': False},\n",
       " 'ay_001': {'p_value': 0.9999999999999992, 'drift_status': False},\n",
       " 'ay_002': {'p_value': 0.9999999999999939, 'drift_status': False},\n",
       " 'ay_003': {'p_value': 1.0, 'drift_status': False},\n",
       " 'ay_004': {'p_value': 0.9999975381161603, 'drift_status': False},\n",
       " 'ay_005': {'p_value': 0.6143114093482904, 'drift_status': False},\n",
       " 'ay_006': {'p_value': 0.6970408958207857, 'drift_status': False},\n",
       " 'ay_007': {'p_value': 0.7635444974895208, 'drift_status': False},\n",
       " 'ay_008': {'p_value': 0.3569366074409064, 'drift_status': True},\n",
       " 'ay_009': {'p_value': 1.0, 'drift_status': False},\n",
       " 'az_000': {'p_value': 0.31286188346490973, 'drift_status': True},\n",
       " 'az_001': {'p_value': 0.8019768645097942, 'drift_status': False},\n",
       " 'az_002': {'p_value': 0.8907333353696574, 'drift_status': False},\n",
       " 'az_003': {'p_value': 0.7691784047567841, 'drift_status': False},\n",
       " 'az_004': {'p_value': 0.4657918486414644, 'drift_status': True},\n",
       " 'az_005': {'p_value': 0.2007077885167614, 'drift_status': True},\n",
       " 'az_006': {'p_value': 0.7513038365599544, 'drift_status': False},\n",
       " 'az_007': {'p_value': 0.9971522064873827, 'drift_status': False},\n",
       " 'az_008': {'p_value': 0.9998320096525045, 'drift_status': False},\n",
       " 'az_009': {'p_value': 1.0, 'drift_status': False},\n",
       " 'ba_000': {'p_value': 0.8214677315037607, 'drift_status': False},\n",
       " 'ba_001': {'p_value': 0.8319241472819698, 'drift_status': False},\n",
       " 'ba_002': {'p_value': 0.7939268826822926, 'drift_status': False},\n",
       " 'ba_003': {'p_value': 0.2742498951943457, 'drift_status': True},\n",
       " 'ba_004': {'p_value': 0.3630568723536727, 'drift_status': True},\n",
       " 'ba_005': {'p_value': 0.24904874412860667, 'drift_status': True},\n",
       " 'ba_006': {'p_value': 0.5459831876798354, 'drift_status': False},\n",
       " 'ba_007': {'p_value': 0.67869746767466, 'drift_status': False},\n",
       " 'ba_008': {'p_value': 0.9927589056175068, 'drift_status': False},\n",
       " 'ba_009': {'p_value': 0.8151753616343648, 'drift_status': False},\n",
       " 'bb_000': {'p_value': 0.8137535933642589, 'drift_status': False},\n",
       " 'bc_000': {'p_value': 0.46327845215234964, 'drift_status': True},\n",
       " 'bd_000': {'p_value': 0.646176833305685, 'drift_status': False},\n",
       " 'be_000': {'p_value': 0.5058798411694727, 'drift_status': False},\n",
       " 'bf_000': {'p_value': 0.9784500670587016, 'drift_status': False},\n",
       " 'bg_000': {'p_value': 0.9134842205976402, 'drift_status': False},\n",
       " 'bh_000': {'p_value': 0.6981101146228219, 'drift_status': False},\n",
       " 'bi_000': {'p_value': 0.26105540658640947, 'drift_status': True},\n",
       " 'bj_000': {'p_value': 0.760280978713023, 'drift_status': False},\n",
       " 'bk_000': {'p_value': 0.4555783034845592, 'drift_status': True},\n",
       " 'bl_000': {'p_value': 0.5309109182299785, 'drift_status': False},\n",
       " 'bm_000': {'p_value': 0.8181505476323883, 'drift_status': False},\n",
       " 'bs_000': {'p_value': 0.3308350782105496, 'drift_status': True},\n",
       " 'bt_000': {'p_value': 0.7786545567179821, 'drift_status': False},\n",
       " 'bu_000': {'p_value': 0.8097414878496575, 'drift_status': False},\n",
       " 'bv_000': {'p_value': 0.8097414878496575, 'drift_status': False},\n",
       " 'bx_000': {'p_value': 0.724230589654243, 'drift_status': False},\n",
       " 'by_000': {'p_value': 0.7344290282319271, 'drift_status': False},\n",
       " 'bz_000': {'p_value': 0.9228832104152637, 'drift_status': False},\n",
       " 'ca_000': {'p_value': 0.4998170625728936, 'drift_status': True},\n",
       " 'cb_000': {'p_value': 0.7059173788907702, 'drift_status': False},\n",
       " 'cc_000': {'p_value': 0.8832071505383703, 'drift_status': False},\n",
       " 'cd_000': {'p_value': 1.0, 'drift_status': False},\n",
       " 'ce_000': {'p_value': 0.9744068002767665, 'drift_status': False},\n",
       " 'cf_000': {'p_value': 0.9999999808125019, 'drift_status': False},\n",
       " 'cg_000': {'p_value': 0.774286967190732, 'drift_status': False},\n",
       " 'ch_000': {'p_value': 0.999999999998922, 'drift_status': False},\n",
       " 'ci_000': {'p_value': 0.9152706108868545, 'drift_status': False},\n",
       " 'cj_000': {'p_value': 0.7658055970426332, 'drift_status': False},\n",
       " 'ck_000': {'p_value': 0.7935918687890997, 'drift_status': False},\n",
       " 'cl_000': {'p_value': 0.875118388065498, 'drift_status': False},\n",
       " 'cm_000': {'p_value': 0.5228108009710011, 'drift_status': False},\n",
       " 'cn_000': {'p_value': 0.9999799110804132, 'drift_status': False},\n",
       " 'cn_001': {'p_value': 0.9291350731239678, 'drift_status': False},\n",
       " 'cn_002': {'p_value': 0.9002047095311634, 'drift_status': False},\n",
       " 'cn_003': {'p_value': 0.24046217568118533, 'drift_status': True},\n",
       " 'cn_004': {'p_value': 0.18989657650670688, 'drift_status': True},\n",
       " 'cn_005': {'p_value': 0.9548496838775077, 'drift_status': False},\n",
       " 'cn_006': {'p_value': 0.8900796251828964, 'drift_status': False},\n",
       " 'cn_007': {'p_value': 0.8710348351608077, 'drift_status': False},\n",
       " 'cn_008': {'p_value': 0.8412017292519094, 'drift_status': False},\n",
       " 'cn_009': {'p_value': 0.9960562435103972, 'drift_status': False},\n",
       " 'co_000': {'p_value': 0.8605557874700511, 'drift_status': False},\n",
       " 'cp_000': {'p_value': 0.8703844239649967, 'drift_status': False},\n",
       " 'cq_000': {'p_value': 0.8097414878496575, 'drift_status': False},\n",
       " 'cs_000': {'p_value': 0.36890390886454594, 'drift_status': True},\n",
       " 'cs_001': {'p_value': 0.7151234279707079, 'drift_status': False},\n",
       " 'cs_002': {'p_value': 0.12838415216903287, 'drift_status': True},\n",
       " 'cs_003': {'p_value': 0.5690534535450361, 'drift_status': False},\n",
       " 'cs_004': {'p_value': 0.587749441610268, 'drift_status': False},\n",
       " 'cs_005': {'p_value': 0.8465025962620291, 'drift_status': False},\n",
       " 'cs_006': {'p_value': 0.3724447408343382, 'drift_status': True},\n",
       " 'cs_007': {'p_value': 0.8160745341487362, 'drift_status': False},\n",
       " 'cs_008': {'p_value': 0.42548587111080105, 'drift_status': True},\n",
       " 'cs_009': {'p_value': 1.0, 'drift_status': False},\n",
       " 'ct_000': {'p_value': 0.4493195369309906, 'drift_status': True},\n",
       " 'cu_000': {'p_value': 0.165105037535493, 'drift_status': True},\n",
       " 'cv_000': {'p_value': 0.6853925208738292, 'drift_status': False},\n",
       " 'cx_000': {'p_value': 0.09029612345980098, 'drift_status': True},\n",
       " 'cy_000': {'p_value': 0.9793154331783429, 'drift_status': False},\n",
       " 'cz_000': {'p_value': 0.6747898615555458, 'drift_status': False},\n",
       " 'da_000': {'p_value': 0.9999959640784701, 'drift_status': False},\n",
       " 'db_000': {'p_value': 0.9999994219695961, 'drift_status': False},\n",
       " 'dc_000': {'p_value': 0.6797585350280864, 'drift_status': False},\n",
       " 'dd_000': {'p_value': 0.9723023940573119, 'drift_status': False},\n",
       " 'de_000': {'p_value': 0.9775641502290132, 'drift_status': False},\n",
       " 'df_000': {'p_value': 0.9999355787544937, 'drift_status': False},\n",
       " 'dg_000': {'p_value': 0.9998905120682783, 'drift_status': False},\n",
       " 'dh_000': {'p_value': 0.9999874789489833, 'drift_status': False},\n",
       " 'di_000': {'p_value': 0.999789807060322, 'drift_status': False},\n",
       " 'dj_000': {'p_value': 0.999963728643703, 'drift_status': False},\n",
       " 'dk_000': {'p_value': 0.9998469158879779, 'drift_status': False},\n",
       " 'dl_000': {'p_value': 0.9999466376826154, 'drift_status': False},\n",
       " 'dm_000': {'p_value': 0.9998904799905154, 'drift_status': False},\n",
       " 'dn_000': {'p_value': 0.6698125897654462, 'drift_status': False},\n",
       " 'do_000': {'p_value': 0.6215974251934087, 'drift_status': False},\n",
       " 'dp_000': {'p_value': 0.4051124589125181, 'drift_status': True},\n",
       " 'dq_000': {'p_value': 0.9145872224054132, 'drift_status': False},\n",
       " 'dr_000': {'p_value': 0.9356540744690452, 'drift_status': False},\n",
       " 'ds_000': {'p_value': 0.7163334976425866, 'drift_status': False},\n",
       " 'dt_000': {'p_value': 0.6174685715093907, 'drift_status': False},\n",
       " 'du_000': {'p_value': 0.7002103095391494, 'drift_status': False},\n",
       " 'dv_000': {'p_value': 0.5204731217574656, 'drift_status': False},\n",
       " 'dx_000': {'p_value': 0.9947994034003889, 'drift_status': False},\n",
       " 'dy_000': {'p_value': 0.20987940294026752, 'drift_status': True},\n",
       " 'dz_000': {'p_value': 0.9999872180510052, 'drift_status': False},\n",
       " 'ea_000': {'p_value': 0.9992566093805042, 'drift_status': False},\n",
       " 'eb_000': {'p_value': 0.5062709631223579, 'drift_status': False},\n",
       " 'ec_00': {'p_value': 0.39986973834300044, 'drift_status': True},\n",
       " 'ed_000': {'p_value': 0.10725709289688434, 'drift_status': True},\n",
       " 'ee_000': {'p_value': 0.5858795612763035, 'drift_status': False},\n",
       " 'ee_001': {'p_value': 0.5773401004027926, 'drift_status': False},\n",
       " 'ee_002': {'p_value': 0.8896289754146889, 'drift_status': False},\n",
       " 'ee_003': {'p_value': 0.9458819161309933, 'drift_status': False},\n",
       " 'ee_004': {'p_value': 0.6641640078318026, 'drift_status': False},\n",
       " 'ee_005': {'p_value': 0.3340917247850208, 'drift_status': True},\n",
       " 'ee_006': {'p_value': 0.3735495494074529, 'drift_status': True},\n",
       " 'ee_007': {'p_value': 0.8762982978257599, 'drift_status': False},\n",
       " 'ee_008': {'p_value': 0.7568327340629991, 'drift_status': False},\n",
       " 'ee_009': {'p_value': 0.8508222005129875, 'drift_status': False},\n",
       " 'ef_000': {'p_value': 0.9989281462312296, 'drift_status': False},\n",
       " 'eg_000': {'p_value': 0.9997522500121077, 'drift_status': False}}"
      ]
     },
     "execution_count": 55,
     "metadata": {},
     "output_type": "execute_result"
    }
   ],
   "source": [
    "get_drift_report(train_df, test_df)"
   ]
  },
  {
   "cell_type": "code",
   "execution_count": null,
   "metadata": {},
   "outputs": [],
   "source": [
    "drift_report = get_drift_report(train_df, test_df)"
   ]
  },
  {
   "cell_type": "code",
   "execution_count": null,
   "metadata": {},
   "outputs": [],
   "source": [
    "import os"
   ]
  },
  {
   "cell_type": "code",
   "execution_count": null,
   "metadata": {},
   "outputs": [],
   "source": [
    "write_yaml_file(file_path=os.path.join(os.getcwd(),\"report.yaml\"), content=drift_report, replace=True)"
   ]
  },
  {
   "cell_type": "code",
   "execution_count": 22,
   "metadata": {},
   "outputs": [],
   "source": [
    "from sensor.ml.model.estimator import TargetValueMapping"
   ]
  },
  {
   "cell_type": "code",
   "execution_count": 23,
   "metadata": {},
   "outputs": [
    {
     "data": {
      "text/plain": [
       "{'neg': 0, 'pos': 1}"
      ]
     },
     "execution_count": 23,
     "metadata": {},
     "output_type": "execute_result"
    }
   ],
   "source": [
    "TargetValueMapping().to_dict()"
   ]
  },
  {
   "cell_type": "code",
   "execution_count": 24,
   "metadata": {},
   "outputs": [
    {
     "data": {
      "text/plain": [
       "{0: 'neg', 1: 'pos'}"
      ]
     },
     "execution_count": 24,
     "metadata": {},
     "output_type": "execute_result"
    }
   ],
   "source": [
    "TargetValueMapping().reverse_mapping()"
   ]
  },
  {
   "cell_type": "code",
   "execution_count": null,
   "metadata": {},
   "outputs": [],
   "source": []
  }
 ],
 "metadata": {
  "kernelspec": {
   "display_name": "Python 3.8.0 (conda)",
   "language": "python",
   "name": "python3"
  },
  "language_info": {
   "codemirror_mode": {
    "name": "ipython",
    "version": 3
   },
   "file_extension": ".py",
   "mimetype": "text/x-python",
   "name": "python",
   "nbconvert_exporter": "python",
   "pygments_lexer": "ipython3",
   "version": "3.8.13"
  },
  "orig_nbformat": 4,
  "vscode": {
   "interpreter": {
    "hash": "4b52ecd1f7cc6b2195a3c5c9ce4309a90d1b5f0e19c7f6285635b44a61933a42"
   }
  }
 },
 "nbformat": 4,
 "nbformat_minor": 2
}
